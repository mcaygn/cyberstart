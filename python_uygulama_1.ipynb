{
 "cells": [
  {
   "cell_type": "code",
   "execution_count": 3,
   "metadata": {},
   "outputs": [
    {
     "name": "stdout",
     "output_type": "stream",
     "text": [
      "Nokta (5, 6) için Min Mesafe: 2.8284271247461903\n",
      "Nokta (7, 8) için Min Mesafe: 1.4142135623730951\n",
      "Nokta (8, 9) için Min Mesafe: 1.4142135623730951\n",
      "Nokta (10, 11) için Min Mesafe: 2.8284271247461903\n"
     ]
    }
   ],
   "source": [
    "import math\n",
    "def euclideanDistance(nokta1, nokta2):\n",
    "    x1, y1 = nokta1\n",
    "    x2, y2 = nokta2\n",
    "    return math.sqrt((x2 - x1) ** 2 + (y2 - y1) ** 2)\n",
    "def MinimumMesafeyiHesapla(noktalar):\n",
    "    min_mesafe = float(\"inf\")\n",
    "    for i, nokta1 in enumerate(noktalar):\n",
    "        for j, nokta2 in enumerate(noktalar):\n",
    "            if i != j:\n",
    "                mesafe = euclideanDistance(nokta1, nokta2)\n",
    "                min_mesafe = min(min_mesafe, mesafe)\n",
    "    return min_mesafe\n",
    "def HerNoktaİçinMinimumMesafeHesaplaVeYazdır(noktalar):\n",
    "    for i, nokta1 in enumerate(noktalar):\n",
    "        min_mesafe = float(\"inf\")\n",
    "        for j, nokta2 in enumerate(noktalar):\n",
    "            if i != j:\n",
    "                mesafe = euclideanDistance(nokta1, nokta2)\n",
    "                min_mesafe = min(min_mesafe, mesafe)\n",
    "        print(f\"Nokta {nokta1} için Min Mesafe: {min_mesafe}\")\n",
    "noktalar = [(5, 6), (7, 8), (8, 9), (10, 11)]\n",
    "HerNoktaİçinMinimumMesafeHesaplaVeYazdır(noktalar)\n"
   ]
  },
  {
   "cell_type": "code",
   "execution_count": null,
   "metadata": {},
   "outputs": [],
   "source": []
  }
 ],
 "metadata": {
  "kernelspec": {
   "display_name": "Python 3 (ipykernel)",
   "language": "python",
   "name": "python3"
  },
  "language_info": {
   "codemirror_mode": {
    "name": "ipython",
    "version": 3
   },
   "file_extension": ".py",
   "mimetype": "text/x-python",
   "name": "python",
   "nbconvert_exporter": "python",
   "pygments_lexer": "ipython3",
   "version": "3.12.3"
  }
 },
 "nbformat": 4,
 "nbformat_minor": 4
}
